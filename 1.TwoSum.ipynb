{
 "cells": [
  {
   "cell_type": "markdown",
   "id": "23d06022-7d26-4c4e-9c80-76d622010b89",
   "metadata": {},
   "source": [
    "# 1. Two Sum\n",
    "\n",
    "Given an array of integers `nums` and an integer `target`, return <i>indices of the two numbers such that they add up to `target`</i>.\n",
    "\n",
    "You may assume that each input wold have <b><i>exactly</i> one solution</b>, and you may not use the <i>same<i/> element twice.\n",
    "\n",
    "You can return the answer in any order.\n",
    "\n",
    "#### Example 1:\n",
    "```Python\n",
    "Input: nums = [2,7,11,15], target = 9\n",
    "Output: [0,1]\n",
    "Explanation: Because nums[0] + nums[1] == 9, we return [0, 1].\n",
    "```\n",
    "#### Example 2:\n",
    "```Python\n",
    "Input: nums = [3,2,4], target = 6\n",
    "Output: [1,2]\n",
    "```\n",
    "\n",
    "#### Example 3:\n",
    "```Python\n",
    "Input: nums = [3,3], target = 6\n",
    "Output: [0,1]\n",
    "```"
   ]
  },
  {
   "cell_type": "code",
   "execution_count": 1,
   "id": "16d7b46c-9b98-4d4d-b7ee-221d8af01b75",
   "metadata": {},
   "outputs": [],
   "source": [
    "import numpy as np\n",
    "nums = np.array([2,7,11,15])\n",
    "target = 9"
   ]
  },
  {
   "cell_type": "markdown",
   "id": "6bf7768b-d4b5-41eb-8fa4-06b68e51994b",
   "metadata": {},
   "source": [
    "## Answer 1"
   ]
  },
  {
   "cell_type": "code",
   "execution_count": 2,
   "id": "3e228e7d-c1cc-42f5-80db-a25fc0fcf01e",
   "metadata": {},
   "outputs": [
    {
     "data": {
      "text/plain": [
       "[0, 1]"
      ]
     },
     "execution_count": 2,
     "metadata": {},
     "output_type": "execute_result"
    }
   ],
   "source": [
    "from typing import List\n",
    "\n",
    "class Solution:\n",
    "    def twoSum(self, nums: List[int], target: int) -> List[int]:\n",
    "        for i1, num1 in enumerate(nums):\n",
    "            for i2, num2 in enumerate(nums):\n",
    "                if i1 != i2 and num1 + num2 == target:\n",
    "                    return[i1,i2]\n",
    "\n",
    "Solution().twoSum(nums,target)"
   ]
  },
  {
   "cell_type": "markdown",
   "id": "a7dc8bb0-08e7-42b8-bec5-839108f596aa",
   "metadata": {},
   "source": [
    "## Answer 2"
   ]
  },
  {
   "cell_type": "code",
   "execution_count": 3,
   "id": "8ad47ecb-e17d-417f-8bef-0c37bbe10a34",
   "metadata": {},
   "outputs": [
    {
     "data": {
      "text/plain": [
       "[0, 1]"
      ]
     },
     "execution_count": 3,
     "metadata": {},
     "output_type": "execute_result"
    }
   ],
   "source": [
    "from typing import List\n",
    "\n",
    "class Solution:\n",
    "    def twoSum(self, nums: List[int], target: int) -> List[int]:\n",
    "        for i in range(len(nums)):\n",
    "            for j in range(i,len(nums)):\n",
    "                if nums[i] + nums[j] == target and i!=j:\n",
    "                    return [i,j]\n",
    "\n",
    "Solution().twoSum(nums,target)"
   ]
  },
  {
   "cell_type": "markdown",
   "id": "bcaf9394-801c-4ccd-8a7e-baea5569bf7a",
   "metadata": {},
   "source": [
    "## Answer 3"
   ]
  },
  {
   "cell_type": "code",
   "execution_count": 4,
   "id": "6bcfbbfb-ce02-4af5-8e74-c0dd19daa707",
   "metadata": {},
   "outputs": [
    {
     "data": {
      "text/plain": [
       "[0, 1]"
      ]
     },
     "execution_count": 4,
     "metadata": {},
     "output_type": "execute_result"
    }
   ],
   "source": [
    "from typing import List\n",
    "\n",
    "class Solution(object):\n",
    "    def twoSum(self, nums: List[int], target: int) -> List[int]:\n",
    "        seen={}\n",
    "        for i, num in enumerate(nums):\n",
    "            if target - num in seen:\n",
    "                # is the target number - the current number in the number's we have already seen\n",
    "                # if it is, that means we have two numbers that will succesfully add to our target\n",
    "                return([seen[target-num],i])\n",
    "            elif num not in seen:\n",
    "                seen[num]=i \n",
    "                \n",
    "Solution().twoSum(nums,target)"
   ]
  }
 ],
 "metadata": {
  "kernelspec": {
   "display_name": "Python 3 (ipykernel)",
   "language": "python",
   "name": "python3"
  },
  "language_info": {
   "codemirror_mode": {
    "name": "ipython",
    "version": 3
   },
   "file_extension": ".py",
   "mimetype": "text/x-python",
   "name": "python",
   "nbconvert_exporter": "python",
   "pygments_lexer": "ipython3",
   "version": "3.11.5"
  }
 },
 "nbformat": 4,
 "nbformat_minor": 5
}
